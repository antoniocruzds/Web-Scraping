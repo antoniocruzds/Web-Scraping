{
  "nbformat": 4,
  "nbformat_minor": 0,
  "metadata": {
    "colab": {
      "name": "Mentiras_de_Trump.ipynb",
      "provenance": []
    },
    "kernelspec": {
      "name": "python3",
      "display_name": "Python 3"
    }
  },
  "cells": [
    {
      "cell_type": "markdown",
      "metadata": {
        "id": "U7qSSwOMZ6Av",
        "colab_type": "text"
      },
      "source": [
        "# WEB SCRAPING - MENTIRAS DE TRUMP\n",
        "Este projeto visa raspar alguns dados existentes em um artigo de 2017 do New York Times a respeito de mentiras ditas pelo então presidente dos Estados Unidos. \n",
        "\n",
        "As bibliotecas utilizadas são:\n",
        "\n",
        "\n",
        "*  Requests\n",
        "*  Beautiful Soup\n",
        "*  Pandas\n",
        "---"
      ]
    },
    {
      "cell_type": "markdown",
      "metadata": {
        "id": "yRIWYxiobICm",
        "colab_type": "text"
      },
      "source": [
        "A raspagem de dados consiste na obtenção de dados de determinada pagina. aqui iremos raspar através do HTML e para isso precisamos entender melhor a pagina em que se encontra o artigo.\n",
        "\n",
        "Artigo -> https://www.nytimes.com/interactive/2017/06/23/opinion/trumps-lies.html?mtrref=www.youtube.com&assetType=REGIWALL\n"
      ]
    },
    {
      "cell_type": "markdown",
      "metadata": {
        "id": "VekVNrvUbif7",
        "colab_type": "text"
      },
      "source": [
        "## O Artigo:\n",
        "Inicialmente iremos examinar como o artigo nos é apresentado.\n",
        "\n",
        "![imagem artigo trump.PNG](https://github.com/antoniocruzds/Web-Scraping/blob/master/Mentiras_de_Trump/Img/imagem%20artigo%20trump.PNG?raw=true)"
      ]
    },
    {
      "cell_type": "markdown",
      "metadata": {
        "id": "zOEgyZ4HcnIN",
        "colab_type": "text"
      },
      "source": [
        "A pagina está traduzida, mas podemos notar que o artigo pode ser dividido em 4 partes: \n",
        "\n",
        "1.   Data;\n",
        "2.   A Mentira dita;\n",
        "3.   A comprovação da mentira;\n",
        "4.   Link para ver melhor a comprovação; (o link está vinculado a comprovação, basta clicar em cima)\n",
        "\n",
        "\n",
        " Certamente cada um deles tem uma formatação diferente que facilitará sua extração pelo HTML, agora iremos examinar o HTML\n",
        "\n"
      ]
    },
    {
      "cell_type": "markdown",
      "metadata": {
        "id": "vstwudx8hKRO",
        "colab_type": "text"
      },
      "source": [
        "## O HTML:\n",
        "Abrindo o código fonte da pagina, podemos encontrar as informações em HTML.\n",
        "\n",
        "Logo de cara nos deparamos com bastante informação, o que pode ser um pouco confuso. Para facilitar iremos fazer uma busca com as palavras presentes na primeira mentira dita por Trump sobre o iraque. \n",
        "    *obs: como o artio está traduzido seu html estará na linguagem original, logo pesquisaremos por iraq.*\n",
        "\n",
        "   O resultado é:\n",
        "\n",
        "![html mentira.PNG](https://github.com/antoniocruzds/Web-Scraping/blob/master/Mentiras_de_Trump/Img/html%20mentira.PNG?raw=true)"
      ]
    },
    {
      "cell_type": "markdown",
      "metadata": {
        "id": "QuNRS9CHnwG3",
        "colab_type": "text"
      },
      "source": [
        "Entendendo o HTML:\n",
        "\n",
        "1. Tags: podemos ver que existem tags presentes no texto. a (<strong  indica onde o texto ficará em negrito);\n",
        "2. Atributos: as tags podem ter atributos (<span class=\"short-desc\");\n",
        "3. links: (href's) indicam link;"
      ]
    },
    {
      "cell_type": "markdown",
      "metadata": {
        "id": "v1FiktwHj0Lu",
        "colab_type": "text"
      },
      "source": [
        "Para melhorar o entendimento da separação destaquei as partes na imagem:\n",
        "![html mentira sublin.PNG](https://github.com/antoniocruzds/Web-Scraping/blob/master/Mentiras_de_Trump/Img/html%20mentira%20sublin.PNG?raw=true)"
      ]
    },
    {
      "cell_type": "markdown",
      "metadata": {
        "id": "HYUOzDWLj9cO",
        "colab_type": "text"
      },
      "source": [
        "* Sublinhado em vermelho -> Data\n",
        "* Sublinhado em azul -> A mentira\n",
        "* Sublinhado em preto -> Link para a comprovação da mentira\n",
        "* Sublinhado em verde -> O titulo da comprovação da mentira\n",
        "\n",
        "visto isso, vamos começar a raspagem"
      ]
    },
    {
      "cell_type": "code",
      "metadata": {
        "id": "Xm66AOFfp1Nr",
        "colab_type": "code",
        "colab": {}
      },
      "source": [
        "#Importando a biblioteca request\n",
        "import requests\n",
        "\n",
        "#Raspando e Armazenando os dados no objeto pag\n",
        "pag = requests.get('https://www.nytimes.com/interactive/2017/06/23/opinion/trumps-lies.html')"
      ],
      "execution_count": null,
      "outputs": []
    },
    {
      "cell_type": "code",
      "metadata": {
        "id": "B5ew7rIlqDeL",
        "colab_type": "code",
        "colab": {
          "base_uri": "https://localhost:8080/",
          "height": 69
        },
        "outputId": "2b54b211-bf4f-42b9-e34e-ec471e817a13"
      },
      "source": [
        "#Mostrando a resposta obtida\n",
        "pag.text[0:500]"
      ],
      "execution_count": null,
      "outputs": [
        {
          "output_type": "execute_result",
          "data": {
            "application/vnd.google.colaboratory.intrinsic+json": {
              "type": "string"
            },
            "text/plain": [
              "'<!DOCTYPE html>\\n<!--[if (gt IE 9)|!(IE)]> <!--><html lang=\"en\" class=\"no-js page-interactive section-opinion page-theme-standard tone-opinion page-interactive-default limit-small layout-xlarge app-interactive\" itemid=\"https://www.nytimes.com/interactive/2017/06/23/opinion/trumps-lies.html\" itemtype=\"http://schema.org/NewsArticle\" itemscope xmlns:og=\"http://opengraphprotocol.org/schema/\"><!--<![endif]-->\\n<!--[if IE 9]> <html lang=\"en\" class=\"no-js ie9 lt-ie10 page-interactive section-opinion page'"
            ]
          },
          "metadata": {
            "tags": []
          },
          "execution_count": 53
        }
      ]
    },
    {
      "cell_type": "markdown",
      "metadata": {
        "id": "_gc0BPIYrCxF",
        "colab_type": "text"
      },
      "source": [
        "Agora que já estamos com o html armazenado localmente, precisamos trabalhar com ele, e pra isso usaremos o Beautiful Soup."
      ]
    },
    {
      "cell_type": "code",
      "metadata": {
        "id": "f_giNiERqmmm",
        "colab_type": "code",
        "colab": {}
      },
      "source": [
        "#Importando o Beautiful Soup\n",
        "from bs4 import BeautifulSoup"
      ],
      "execution_count": null,
      "outputs": []
    },
    {
      "cell_type": "code",
      "metadata": {
        "id": "etA9mJ-yrpGd",
        "colab_type": "code",
        "colab": {}
      },
      "source": [
        "#Convertendo os dados presentes em 'pag' para um objeto 'sopa' de Beautiful Soup\n",
        "sopa = BeautifulSoup(pag.text, 'html.parser')"
      ],
      "execution_count": null,
      "outputs": []
    },
    {
      "cell_type": "markdown",
      "metadata": {
        "id": "zJJyAkE8s2Ld",
        "colab_type": "text"
      },
      "source": [
        "Basicamente o HTML apresenta as informações da seguinte forma:\n",
        "\n",
        "```\n",
        "span class=\"short-desc\"><strong> DATA </strong> MENTIRA <span class=\"short-truth\"><a href=\"LINK\"> EXPLICAÇÃO </a></span></span>\n",
        "```\n",
        "Também devemos destacar que as informações estão em seguencia.\n",
        "Agora vamos pedir ao Soup que nos entregue as informações que queremos:\n",
        "\n"
      ]
    },
    {
      "cell_type": "code",
      "metadata": {
        "id": "vgyhQ6HisMp6",
        "colab_type": "code",
        "colab": {}
      },
      "source": [
        "#Obtendo os resultados que estão dentro do span class\n",
        "resultados = sopa.find_all('span', attrs={'class':'short-desc'})"
      ],
      "execution_count": null,
      "outputs": []
    },
    {
      "cell_type": "code",
      "metadata": {
        "id": "_DL7eka_uRmq",
        "colab_type": "code",
        "colab": {
          "base_uri": "https://localhost:8080/",
          "height": 34
        },
        "outputId": "419d3042-32fa-410f-f61d-c5cf1fe96885"
      },
      "source": [
        "#Lendo a quantidade de resultados obtidos\n",
        "\n",
        "len(resultados)"
      ],
      "execution_count": null,
      "outputs": [
        {
          "output_type": "execute_result",
          "data": {
            "text/plain": [
              "180"
            ]
          },
          "metadata": {
            "tags": []
          },
          "execution_count": 12
        }
      ]
    },
    {
      "cell_type": "code",
      "metadata": {
        "id": "vLbDg8QkufkB",
        "colab_type": "code",
        "colab": {
          "base_uri": "https://localhost:8080/",
          "height": 89
        },
        "outputId": "1fbc7c58-cc22-4a82-d933-d1e283a6f19d"
      },
      "source": [
        "#Agora vamos examinar alguns resultados obtidos\n",
        "resultados[0:3]"
      ],
      "execution_count": null,
      "outputs": [
        {
          "output_type": "execute_result",
          "data": {
            "text/plain": [
              "[<span class=\"short-desc\"><strong>Jan. 21 </strong>“I wasn't a fan of Iraq. I didn't want to go into Iraq.” <span class=\"short-truth\"><a href=\"https://www.buzzfeed.com/andrewkaczynski/in-2002-donald-trump-said-he-supported-invading-iraq-on-the\" target=\"_blank\">(He was for an invasion before he was against it.)</a></span></span>,\n",
              " <span class=\"short-desc\"><strong>Jan. 21 </strong>“A reporter for Time magazine — and I have been on their cover 14 or 15 times. I think we have the all-time record in the history of Time magazine.” <span class=\"short-truth\"><a href=\"http://nation.time.com/2013/11/06/10-things-you-didnt-know-about-time/\" target=\"_blank\">(Trump was on the cover 11 times and Nixon appeared 55 times.)</a></span></span>,\n",
              " <span class=\"short-desc\"><strong>Jan. 23 </strong>“Between 3 million and 5 million illegal votes caused me to lose the popular vote.” <span class=\"short-truth\"><a href=\"https://www.nytimes.com/2017/01/23/us/politics/donald-trump-congress-democrats.html\" target=\"_blank\">(There's no evidence of illegal voting.)</a></span></span>]"
            ]
          },
          "metadata": {
            "tags": []
          },
          "execution_count": 14
        }
      ]
    },
    {
      "cell_type": "markdown",
      "metadata": {
        "id": "-0TSRnGzvM8O",
        "colab_type": "text"
      },
      "source": [
        "Aparentemente conseguimos o que queriamos, para conferir vamos pegar as ultimas linhas"
      ]
    },
    {
      "cell_type": "code",
      "metadata": {
        "id": "b9rkfwGnvTYF",
        "colab_type": "code",
        "colab": {
          "base_uri": "https://localhost:8080/",
          "height": 124
        },
        "outputId": "ec6bc553-945f-4616-b77b-3a2a534a8fc5"
      },
      "source": [
        "#Pegando as 5 ultimas linhas dos resultados:\n",
        "resultados[175:180]"
      ],
      "execution_count": null,
      "outputs": [
        {
          "output_type": "execute_result",
          "data": {
            "text/plain": [
              "[<span class=\"short-desc\"><strong>Oct. 25 </strong>“We have trade deficits with almost everybody.” <span class=\"short-truth\"><a href=\"https://www.bea.gov/newsreleases/international/trade/2017/trad0917.htm\" target=\"_blank\">(We have trade surpluses with more than 100 countries.)</a></span></span>,\n",
              " <span class=\"short-desc\"><strong>Oct. 27 </strong>“Wacky &amp; totally unhinged Tom Steyer, who has been fighting me and my Make America Great Again agenda from beginning, never wins elections!” <span class=\"short-truth\"><a href=\"https://www.opensecrets.org/donor-lookup/results?name=Thomas+Steyer\" target=\"_blank\">(Steyer has financially supported many winning candidates.)</a></span></span>,\n",
              " <span class=\"short-desc\"><strong>Nov. 1 </strong>“Again, we're the highest-taxed nation, just about, in the world.” <span class=\"short-truth\"><a href=\"http://www.politifact.com/truth-o-meter/statements/2016/may/08/donald-trump/donald-trump-us-not-highest-taxed-nation-in-world/\" target=\"_blank\">(We're not.)</a></span></span>,\n",
              " <span class=\"short-desc\"><strong>Nov. 7 </strong>“When you look at the city with the strongest gun laws in our nation, it's Chicago.” <span class=\"short-truth\"><a href=\"http://www.politifact.com/truth-o-meter/statements/2017/nov/07/donald-trump/trump-wrongly-repeats-chicago-has-strongest-gun-la/\" target=\"_blank\">(Several other cities, including New York and Los Angeles, have stronger gun laws.)</a></span></span>,\n",
              " <span class=\"short-desc\"><strong>Nov. 11 </strong>“I'd rather have him  – you know, work with him on the Ukraine than standing and arguing about whether or not  – because that whole thing was set up by the Democrats.” <span class=\"short-truth\"><a href=\"https://www.nytimes.com/interactive/2017/12/10/us/politics/trump-and-russia.html\" target=\"_blank\">(There is no evidence that Democrats \"set up\" Russian interference in the election.)</a></span></span>]"
            ]
          },
          "metadata": {
            "tags": []
          },
          "execution_count": 15
        }
      ]
    },
    {
      "cell_type": "markdown",
      "metadata": {
        "id": "M0eLmA57vFiv",
        "colab_type": "text"
      },
      "source": [
        "Agora sim, tudo ok. mas ainda precisamos separar as informações."
      ]
    },
    {
      "cell_type": "markdown",
      "metadata": {
        "id": "iiljrhjJv_rN",
        "colab_type": "text"
      },
      "source": [
        "## Separando as informações\n",
        "Vamos começar com uma unica linha dos resultados:\n",
        "\n",
        "###DATA:"
      ]
    },
    {
      "cell_type": "code",
      "metadata": {
        "id": "fS89SbvhvBBT",
        "colab_type": "code",
        "colab": {
          "base_uri": "https://localhost:8080/",
          "height": 54
        },
        "outputId": "d28676e9-f200-4f8b-aed5-281cbb008c92"
      },
      "source": [
        "#Criando uma nova variavel pra armazenar a primeira mentira\n",
        "mentira1 = resultados[0]\n",
        "#Mostrando\n",
        "mentira1"
      ],
      "execution_count": null,
      "outputs": [
        {
          "output_type": "execute_result",
          "data": {
            "text/plain": [
              "<span class=\"short-desc\"><strong>Jan. 21 </strong>“I wasn't a fan of Iraq. I didn't want to go into Iraq.” <span class=\"short-truth\"><a href=\"https://www.buzzfeed.com/andrewkaczynski/in-2002-donald-trump-said-he-supported-invading-iraq-on-the\" target=\"_blank\">(He was for an invasion before he was against it.)</a></span></span>"
            ]
          },
          "metadata": {
            "tags": []
          },
          "execution_count": 17
        }
      ]
    },
    {
      "cell_type": "markdown",
      "metadata": {
        "id": "5XQJt-JMw6GQ",
        "colab_type": "text"
      },
      "source": [
        "Podemos tentar separar procurando partes especificas.\n",
        "\n",
        "Podemos ver que a data está em negrito, ou seja, entre STRONG. vamos dar unm find nisso"
      ]
    },
    {
      "cell_type": "code",
      "metadata": {
        "id": "Ba5dKt24xPIW",
        "colab_type": "code",
        "colab": {
          "base_uri": "https://localhost:8080/",
          "height": 34
        },
        "outputId": "11df34eb-d652-43ad-bc54-ce2b811a5139"
      },
      "source": [
        "#Encontrando strong\n",
        "mentira1.find('strong')"
      ],
      "execution_count": null,
      "outputs": [
        {
          "output_type": "execute_result",
          "data": {
            "text/plain": [
              "<strong>Jan. 21 </strong>"
            ]
          },
          "metadata": {
            "tags": []
          },
          "execution_count": 18
        }
      ]
    },
    {
      "cell_type": "markdown",
      "metadata": {
        "id": "-FlQxI7bxe7W",
        "colab_type": "text"
      },
      "source": [
        "para melhorar a informação colocaremos o ano\n"
      ]
    },
    {
      "cell_type": "code",
      "metadata": {
        "id": "ps2-3YJ-wS6a",
        "colab_type": "code",
        "colab": {
          "base_uri": "https://localhost:8080/",
          "height": 34
        },
        "outputId": "5669efdb-37b3-46e1-9bae-40cc36007436"
      },
      "source": [
        "#Colocando ano\n",
        "mentira1.find('strong').text + ', 2017'"
      ],
      "execution_count": null,
      "outputs": [
        {
          "output_type": "execute_result",
          "data": {
            "application/vnd.google.colaboratory.intrinsic+json": {
              "type": "string"
            },
            "text/plain": [
              "'Jan. 21\\xa0, 2017'"
            ]
          },
          "metadata": {
            "tags": []
          },
          "execution_count": 21
        }
      ]
    },
    {
      "cell_type": "markdown",
      "metadata": {
        "id": "I6gTjvokx5q-",
        "colab_type": "text"
      },
      "source": [
        "precisamos tirar a parte \\xa0 que por agora não importa pra gente"
      ]
    },
    {
      "cell_type": "code",
      "metadata": {
        "id": "rmrknolLxnZx",
        "colab_type": "code",
        "colab": {
          "base_uri": "https://localhost:8080/",
          "height": 34
        },
        "outputId": "50767511-cf62-4378-b47c-151084d02d7c"
      },
      "source": [
        "#Removendo o \\xa0 e adcionando o ano\n",
        "\n",
        "mentira1.find('strong').text[0:-1] + ', 2017'"
      ],
      "execution_count": null,
      "outputs": [
        {
          "output_type": "execute_result",
          "data": {
            "application/vnd.google.colaboratory.intrinsic+json": {
              "type": "string"
            },
            "text/plain": [
              "'Jan. 21, 2017'"
            ]
          },
          "metadata": {
            "tags": []
          },
          "execution_count": 23
        }
      ]
    },
    {
      "cell_type": "markdown",
      "metadata": {
        "id": "Nd4MdyOHyWTe",
        "colab_type": "text"
      },
      "source": [
        "### MENTIRA"
      ]
    },
    {
      "cell_type": "code",
      "metadata": {
        "id": "QIuSX-PLyJX_",
        "colab_type": "code",
        "colab": {
          "base_uri": "https://localhost:8080/",
          "height": 54
        },
        "outputId": "c7bf0eeb-3297-489a-c493-8de2494f62b6"
      },
      "source": [
        "mentira1"
      ],
      "execution_count": null,
      "outputs": [
        {
          "output_type": "execute_result",
          "data": {
            "text/plain": [
              "<span class=\"short-desc\"><strong>Jan. 21 </strong>“I wasn't a fan of Iraq. I didn't want to go into Iraq.” <span class=\"short-truth\"><a href=\"https://www.buzzfeed.com/andrewkaczynski/in-2002-donald-trump-said-he-supported-invading-iraq-on-the\" target=\"_blank\">(He was for an invasion before he was against it.)</a></span></span>"
            ]
          },
          "metadata": {
            "tags": []
          },
          "execution_count": 24
        }
      ]
    },
    {
      "cell_type": "markdown",
      "metadata": {
        "id": "vcst7LriyuGl",
        "colab_type": "text"
      },
      "source": [
        "Infelizmente a frase não possui uma tag de abertura e fechamento, logo temos que usar outra tecnica"
      ]
    },
    {
      "cell_type": "code",
      "metadata": {
        "id": "IUQpRlV_yhQj",
        "colab_type": "code",
        "colab": {
          "base_uri": "https://localhost:8080/",
          "height": 69
        },
        "outputId": "64efb4ec-2338-42e6-b381-330af54631eb"
      },
      "source": [
        "#Analisando melhor\n",
        "mentira1.contents"
      ],
      "execution_count": null,
      "outputs": [
        {
          "output_type": "execute_result",
          "data": {
            "text/plain": [
              "[<strong>Jan. 21 </strong>,\n",
              " \"“I wasn't a fan of Iraq. I didn't want to go into Iraq.” \",\n",
              " <span class=\"short-truth\"><a href=\"https://www.buzzfeed.com/andrewkaczynski/in-2002-donald-trump-said-he-supported-invading-iraq-on-the\" target=\"_blank\">(He was for an invasion before he was against it.)</a></span>]"
            ]
          },
          "metadata": {
            "tags": []
          },
          "execution_count": 25
        }
      ]
    },
    {
      "cell_type": "markdown",
      "metadata": {
        "id": "zGgCo9BmzNQt",
        "colab_type": "text"
      },
      "source": [
        "Aqui percebemos que a mentira está aninhada dentro de uma tag, podemos usar isso para separa-lá:\n"
      ]
    },
    {
      "cell_type": "code",
      "metadata": {
        "id": "sJ9qts_cy64e",
        "colab_type": "code",
        "colab": {
          "base_uri": "https://localhost:8080/",
          "height": 34
        },
        "outputId": "d67b163d-f941-44a1-d60f-2a95af1a486f"
      },
      "source": [
        "#Selecionando a linha que queremos\n",
        "mentira1.contents[1]"
      ],
      "execution_count": null,
      "outputs": [
        {
          "output_type": "execute_result",
          "data": {
            "application/vnd.google.colaboratory.intrinsic+json": {
              "type": "string"
            },
            "text/plain": [
              "\"“I wasn't a fan of Iraq. I didn't want to go into Iraq.” \""
            ]
          },
          "metadata": {
            "tags": []
          },
          "execution_count": 26
        }
      ]
    },
    {
      "cell_type": "code",
      "metadata": {
        "id": "1Vvw4qesznPI",
        "colab_type": "code",
        "colab": {
          "base_uri": "https://localhost:8080/",
          "height": 34
        },
        "outputId": "718e68fe-8d72-49a1-ae40-e469060e873f"
      },
      "source": [
        "#Removendo aspas e espaços extras\n",
        "mentira1.contents[1][1:-2]"
      ],
      "execution_count": null,
      "outputs": [
        {
          "output_type": "execute_result",
          "data": {
            "application/vnd.google.colaboratory.intrinsic+json": {
              "type": "string"
            },
            "text/plain": [
              "\"I wasn't a fan of Iraq. I didn't want to go into Iraq.\""
            ]
          },
          "metadata": {
            "tags": []
          },
          "execution_count": 27
        }
      ]
    },
    {
      "cell_type": "markdown",
      "metadata": {
        "id": "-HyzYcUH5HNW",
        "colab_type": "text"
      },
      "source": [
        "### COMPROVAÇÃO DA MENTIRA E O LINK"
      ]
    },
    {
      "cell_type": "code",
      "metadata": {
        "id": "LaT1ov3G3eBt",
        "colab_type": "code",
        "colab": {
          "base_uri": "https://localhost:8080/",
          "height": 54
        },
        "outputId": "0f695d98-2125-4169-ae6b-57fc26827351"
      },
      "source": [
        "mentira1"
      ],
      "execution_count": null,
      "outputs": [
        {
          "output_type": "execute_result",
          "data": {
            "text/plain": [
              "<span class=\"short-desc\"><strong>Jan. 21 </strong>“I wasn't a fan of Iraq. I didn't want to go into Iraq.” <span class=\"short-truth\"><a href=\"https://www.buzzfeed.com/andrewkaczynski/in-2002-donald-trump-said-he-supported-invading-iraq-on-the\" target=\"_blank\">(He was for an invasion before he was against it.)</a></span></span>"
            ]
          },
          "metadata": {
            "tags": []
          },
          "execution_count": 28
        }
      ]
    },
    {
      "cell_type": "markdown",
      "metadata": {
        "id": "xaaTDF6O5epG",
        "colab_type": "text"
      },
      "source": [
        "Aqui podemos notar que a explicação está dentro de uma tag 'a', logo procuraremos por 'a' e pegaremos a ultima parte, pois a primeira é o link em href"
      ]
    },
    {
      "cell_type": "code",
      "metadata": {
        "id": "AGp56Jam5apb",
        "colab_type": "code",
        "colab": {
          "base_uri": "https://localhost:8080/",
          "height": 34
        },
        "outputId": "42217dc8-c9f4-4ba3-cb99-2cf471838a7b"
      },
      "source": [
        "#Selecionando a comprovação\n",
        "mentira1.find('a').text[1:-1]"
      ],
      "execution_count": null,
      "outputs": [
        {
          "output_type": "execute_result",
          "data": {
            "application/vnd.google.colaboratory.intrinsic+json": {
              "type": "string"
            },
            "text/plain": [
              "'He was for an invasion before he was against it.'"
            ]
          },
          "metadata": {
            "tags": []
          },
          "execution_count": 30
        }
      ]
    },
    {
      "cell_type": "code",
      "metadata": {
        "id": "J-yJceki6CJJ",
        "colab_type": "code",
        "colab": {
          "base_uri": "https://localhost:8080/",
          "height": 34
        },
        "outputId": "98cfca94-949d-46de-8a03-06c21518c027"
      },
      "source": [
        "#Selecionando o Link(Href)\n",
        "mentira1.find('a')['href']\n"
      ],
      "execution_count": null,
      "outputs": [
        {
          "output_type": "execute_result",
          "data": {
            "application/vnd.google.colaboratory.intrinsic+json": {
              "type": "string"
            },
            "text/plain": [
              "'https://www.buzzfeed.com/andrewkaczynski/in-2002-donald-trump-said-he-supported-invading-iraq-on-the'"
            ]
          },
          "metadata": {
            "tags": []
          },
          "execution_count": 33
        }
      ]
    },
    {
      "cell_type": "markdown",
      "metadata": {
        "id": "I5T-eNHx6hTv",
        "colab_type": "text"
      },
      "source": [
        "Prontinho. \n",
        "\n",
        "Agora que já sabemos como obter as informações, vamos fazer um loop para repetir nas outras mentiras e depois armazena-las em tuplas chamadas de 'Falas'."
      ]
    },
    {
      "cell_type": "markdown",
      "metadata": {
        "id": "pLOmRvFe7MoS",
        "colab_type": "text"
      },
      "source": [
        "## Construindo o DataSet com as Informações"
      ]
    },
    {
      "cell_type": "code",
      "metadata": {
        "id": "Va1825jf6Ro7",
        "colab_type": "code",
        "colab": {}
      },
      "source": [
        "#Crinado uma lista\n",
        "falas = []\n",
        "\n",
        "#Repetindo o processo em todas as mentiras e armazenando na lista de falas\n",
        "for result in resultados:\n",
        "    DATA = result.find('strong').text[0:-1] + ', 2017'\n",
        "    MENTIRA = result.contents[1][1:-2]\n",
        "    COMPROVAÇÃO = result.find('a').text[1:-1]\n",
        "    URL = result.find('a')['href']\n",
        "    falas.append((DATA, MENTIRA, COMPROVAÇÃO, URL))"
      ],
      "execution_count": null,
      "outputs": []
    },
    {
      "cell_type": "code",
      "metadata": {
        "id": "kNeAOtGt7z46",
        "colab_type": "code",
        "colab": {
          "base_uri": "https://localhost:8080/",
          "height": 34
        },
        "outputId": "9d91d32d-397b-4526-f5b3-d42b24eeb20d"
      },
      "source": [
        "#Contando quantas entiras tem\n",
        "len(falas)"
      ],
      "execution_count": null,
      "outputs": [
        {
          "output_type": "execute_result",
          "data": {
            "text/plain": [
              "180"
            ]
          },
          "metadata": {
            "tags": []
          },
          "execution_count": 42
        }
      ]
    },
    {
      "cell_type": "code",
      "metadata": {
        "id": "TyPdRXcd81gL",
        "colab_type": "code",
        "colab": {
          "base_uri": "https://localhost:8080/",
          "height": 225
        },
        "outputId": "56d3e63b-9654-4e4e-95da-90b629585064"
      },
      "source": [
        "#vendo as primeiras linhas\n",
        "falas[0:3]"
      ],
      "execution_count": null,
      "outputs": [
        {
          "output_type": "execute_result",
          "data": {
            "text/plain": [
              "[('Jan. 21, 2017',\n",
              "  \"I wasn't a fan of Iraq. I didn't want to go into Iraq.\",\n",
              "  'He was for an invasion before he was against it.',\n",
              "  'https://www.buzzfeed.com/andrewkaczynski/in-2002-donald-trump-said-he-supported-invading-iraq-on-the'),\n",
              " ('Jan. 21, 2017',\n",
              "  'A reporter for Time magazine — and I have been on their cover 14 or 15 times. I think we have the all-time record in the history of Time magazine.',\n",
              "  'Trump was on the cover 11 times and Nixon appeared 55 times.',\n",
              "  'http://nation.time.com/2013/11/06/10-things-you-didnt-know-about-time/'),\n",
              " ('Jan. 23, 2017',\n",
              "  'Between 3 million and 5 million illegal votes caused me to lose the popular vote.',\n",
              "  \"There's no evidence of illegal voting.\",\n",
              "  'https://www.nytimes.com/2017/01/23/us/politics/donald-trump-congress-democrats.html')]"
            ]
          },
          "metadata": {
            "tags": []
          },
          "execution_count": 43
        }
      ]
    },
    {
      "cell_type": "markdown",
      "metadata": {
        "id": "VgEUOSSC9EGy",
        "colab_type": "text"
      },
      "source": [
        "Agora vamos armasenar em um dataframe para melhorar a visualização. usaremos o pandas para isso:\n"
      ]
    },
    {
      "cell_type": "code",
      "metadata": {
        "id": "NkaHdaTh88Lg",
        "colab_type": "code",
        "colab": {}
      },
      "source": [
        "#Importando o pandas\n",
        "import pandas as pd"
      ],
      "execution_count": null,
      "outputs": []
    },
    {
      "cell_type": "code",
      "metadata": {
        "id": "3BMZcT3E9TuC",
        "colab_type": "code",
        "colab": {
          "base_uri": "https://localhost:8080/",
          "height": 202
        },
        "outputId": "bcb95553-190a-4623-a8ea-8fceb1f2f015"
      },
      "source": [
        "#Criando o df, e armazenando os dados da lista\n",
        "df = pd.DataFrame(falas, columns=['DATA', 'MENTIRA', 'EXPLICAÇÃO', 'URL'])\n",
        "\n",
        "#Mostrando o começo do df\n",
        "df.head()"
      ],
      "execution_count": null,
      "outputs": [
        {
          "output_type": "execute_result",
          "data": {
            "text/html": [
              "<div>\n",
              "<style scoped>\n",
              "    .dataframe tbody tr th:only-of-type {\n",
              "        vertical-align: middle;\n",
              "    }\n",
              "\n",
              "    .dataframe tbody tr th {\n",
              "        vertical-align: top;\n",
              "    }\n",
              "\n",
              "    .dataframe thead th {\n",
              "        text-align: right;\n",
              "    }\n",
              "</style>\n",
              "<table border=\"1\" class=\"dataframe\">\n",
              "  <thead>\n",
              "    <tr style=\"text-align: right;\">\n",
              "      <th></th>\n",
              "      <th>DATA</th>\n",
              "      <th>MENTIRA</th>\n",
              "      <th>EXPLICAÇÃO</th>\n",
              "      <th>URL</th>\n",
              "    </tr>\n",
              "  </thead>\n",
              "  <tbody>\n",
              "    <tr>\n",
              "      <th>0</th>\n",
              "      <td>Jan. 21, 2017</td>\n",
              "      <td>I wasn't a fan of Iraq. I didn't want to go in...</td>\n",
              "      <td>He was for an invasion before he was against it.</td>\n",
              "      <td>https://www.buzzfeed.com/andrewkaczynski/in-20...</td>\n",
              "    </tr>\n",
              "    <tr>\n",
              "      <th>1</th>\n",
              "      <td>Jan. 21, 2017</td>\n",
              "      <td>A reporter for Time magazine — and I have been...</td>\n",
              "      <td>Trump was on the cover 11 times and Nixon appe...</td>\n",
              "      <td>http://nation.time.com/2013/11/06/10-things-yo...</td>\n",
              "    </tr>\n",
              "    <tr>\n",
              "      <th>2</th>\n",
              "      <td>Jan. 23, 2017</td>\n",
              "      <td>Between 3 million and 5 million illegal votes ...</td>\n",
              "      <td>There's no evidence of illegal voting.</td>\n",
              "      <td>https://www.nytimes.com/2017/01/23/us/politics...</td>\n",
              "    </tr>\n",
              "    <tr>\n",
              "      <th>3</th>\n",
              "      <td>Jan. 25, 2017</td>\n",
              "      <td>Now, the audience was the biggest ever. But th...</td>\n",
              "      <td>Official aerial photos show Obama's 2009 inaug...</td>\n",
              "      <td>https://www.nytimes.com/2017/01/21/us/politics...</td>\n",
              "    </tr>\n",
              "    <tr>\n",
              "      <th>4</th>\n",
              "      <td>Jan. 25, 2017</td>\n",
              "      <td>Take a look at the Pew reports (which show vot...</td>\n",
              "      <td>The report never mentioned voter fraud.</td>\n",
              "      <td>https://www.nytimes.com/2017/01/24/us/politics...</td>\n",
              "    </tr>\n",
              "  </tbody>\n",
              "</table>\n",
              "</div>"
            ],
            "text/plain": [
              "            DATA  ...                                                URL\n",
              "0  Jan. 21, 2017  ...  https://www.buzzfeed.com/andrewkaczynski/in-20...\n",
              "1  Jan. 21, 2017  ...  http://nation.time.com/2013/11/06/10-things-yo...\n",
              "2  Jan. 23, 2017  ...  https://www.nytimes.com/2017/01/23/us/politics...\n",
              "3  Jan. 25, 2017  ...  https://www.nytimes.com/2017/01/21/us/politics...\n",
              "4  Jan. 25, 2017  ...  https://www.nytimes.com/2017/01/24/us/politics...\n",
              "\n",
              "[5 rows x 4 columns]"
            ]
          },
          "metadata": {
            "tags": []
          },
          "execution_count": 44
        }
      ]
    },
    {
      "cell_type": "code",
      "metadata": {
        "id": "-0Q5QcXI9rW-",
        "colab_type": "code",
        "colab": {
          "base_uri": "https://localhost:8080/",
          "height": 202
        },
        "outputId": "8e30a2aa-7dcf-41ea-ce16-e455130c3386"
      },
      "source": [
        "#mostrando o final do df\n",
        "df.tail()"
      ],
      "execution_count": null,
      "outputs": [
        {
          "output_type": "execute_result",
          "data": {
            "text/html": [
              "<div>\n",
              "<style scoped>\n",
              "    .dataframe tbody tr th:only-of-type {\n",
              "        vertical-align: middle;\n",
              "    }\n",
              "\n",
              "    .dataframe tbody tr th {\n",
              "        vertical-align: top;\n",
              "    }\n",
              "\n",
              "    .dataframe thead th {\n",
              "        text-align: right;\n",
              "    }\n",
              "</style>\n",
              "<table border=\"1\" class=\"dataframe\">\n",
              "  <thead>\n",
              "    <tr style=\"text-align: right;\">\n",
              "      <th></th>\n",
              "      <th>DATA</th>\n",
              "      <th>MENTIRA</th>\n",
              "      <th>EXPLICAÇÃO</th>\n",
              "      <th>URL</th>\n",
              "    </tr>\n",
              "  </thead>\n",
              "  <tbody>\n",
              "    <tr>\n",
              "      <th>175</th>\n",
              "      <td>Oct. 25, 2017</td>\n",
              "      <td>We have trade deficits with almost everybody.</td>\n",
              "      <td>We have trade surpluses with more than 100 cou...</td>\n",
              "      <td>https://www.bea.gov/newsreleases/international...</td>\n",
              "    </tr>\n",
              "    <tr>\n",
              "      <th>176</th>\n",
              "      <td>Oct. 27, 2017</td>\n",
              "      <td>Wacky &amp; totally unhinged Tom Steyer, who has b...</td>\n",
              "      <td>Steyer has financially supported many winning ...</td>\n",
              "      <td>https://www.opensecrets.org/donor-lookup/resul...</td>\n",
              "    </tr>\n",
              "    <tr>\n",
              "      <th>177</th>\n",
              "      <td>Nov. 1, 2017</td>\n",
              "      <td>Again, we're the highest-taxed nation, just ab...</td>\n",
              "      <td>We're not.</td>\n",
              "      <td>http://www.politifact.com/truth-o-meter/statem...</td>\n",
              "    </tr>\n",
              "    <tr>\n",
              "      <th>178</th>\n",
              "      <td>Nov. 7, 2017</td>\n",
              "      <td>When you look at the city with the strongest g...</td>\n",
              "      <td>Several other cities, including New York and L...</td>\n",
              "      <td>http://www.politifact.com/truth-o-meter/statem...</td>\n",
              "    </tr>\n",
              "    <tr>\n",
              "      <th>179</th>\n",
              "      <td>Nov. 11, 2017</td>\n",
              "      <td>I'd rather have him  – you know, work with him...</td>\n",
              "      <td>There is no evidence that Democrats \"set up\" R...</td>\n",
              "      <td>https://www.nytimes.com/interactive/2017/12/10...</td>\n",
              "    </tr>\n",
              "  </tbody>\n",
              "</table>\n",
              "</div>"
            ],
            "text/plain": [
              "              DATA  ...                                                URL\n",
              "175  Oct. 25, 2017  ...  https://www.bea.gov/newsreleases/international...\n",
              "176  Oct. 27, 2017  ...  https://www.opensecrets.org/donor-lookup/resul...\n",
              "177   Nov. 1, 2017  ...  http://www.politifact.com/truth-o-meter/statem...\n",
              "178   Nov. 7, 2017  ...  http://www.politifact.com/truth-o-meter/statem...\n",
              "179  Nov. 11, 2017  ...  https://www.nytimes.com/interactive/2017/12/10...\n",
              "\n",
              "[5 rows x 4 columns]"
            ]
          },
          "metadata": {
            "tags": []
          },
          "execution_count": 46
        }
      ]
    },
    {
      "cell_type": "markdown",
      "metadata": {
        "id": "bV3bA6Qv-icI",
        "colab_type": "text"
      },
      "source": [
        "vamos só melhorar a formatação da data "
      ]
    },
    {
      "cell_type": "code",
      "metadata": {
        "id": "58NltFqq-ORn",
        "colab_type": "code",
        "colab": {}
      },
      "source": [
        "#Arrumando a dada\n",
        "df['DATA'] = pd.to_datetime(df['DATA'])"
      ],
      "execution_count": null,
      "outputs": []
    },
    {
      "cell_type": "code",
      "metadata": {
        "id": "RksEB0Kd-uGu",
        "colab_type": "code",
        "colab": {
          "base_uri": "https://localhost:8080/",
          "height": 202
        },
        "outputId": "9d235d48-a202-4315-f391-91a1a7d2bb95"
      },
      "source": [
        "#Verificando no começo do df\n",
        "df.head()"
      ],
      "execution_count": null,
      "outputs": [
        {
          "output_type": "execute_result",
          "data": {
            "text/html": [
              "<div>\n",
              "<style scoped>\n",
              "    .dataframe tbody tr th:only-of-type {\n",
              "        vertical-align: middle;\n",
              "    }\n",
              "\n",
              "    .dataframe tbody tr th {\n",
              "        vertical-align: top;\n",
              "    }\n",
              "\n",
              "    .dataframe thead th {\n",
              "        text-align: right;\n",
              "    }\n",
              "</style>\n",
              "<table border=\"1\" class=\"dataframe\">\n",
              "  <thead>\n",
              "    <tr style=\"text-align: right;\">\n",
              "      <th></th>\n",
              "      <th>DATA</th>\n",
              "      <th>MENTIRA</th>\n",
              "      <th>EXPLICAÇÃO</th>\n",
              "      <th>URL</th>\n",
              "    </tr>\n",
              "  </thead>\n",
              "  <tbody>\n",
              "    <tr>\n",
              "      <th>0</th>\n",
              "      <td>2017-01-21</td>\n",
              "      <td>I wasn't a fan of Iraq. I didn't want to go in...</td>\n",
              "      <td>He was for an invasion before he was against it.</td>\n",
              "      <td>https://www.buzzfeed.com/andrewkaczynski/in-20...</td>\n",
              "    </tr>\n",
              "    <tr>\n",
              "      <th>1</th>\n",
              "      <td>2017-01-21</td>\n",
              "      <td>A reporter for Time magazine — and I have been...</td>\n",
              "      <td>Trump was on the cover 11 times and Nixon appe...</td>\n",
              "      <td>http://nation.time.com/2013/11/06/10-things-yo...</td>\n",
              "    </tr>\n",
              "    <tr>\n",
              "      <th>2</th>\n",
              "      <td>2017-01-23</td>\n",
              "      <td>Between 3 million and 5 million illegal votes ...</td>\n",
              "      <td>There's no evidence of illegal voting.</td>\n",
              "      <td>https://www.nytimes.com/2017/01/23/us/politics...</td>\n",
              "    </tr>\n",
              "    <tr>\n",
              "      <th>3</th>\n",
              "      <td>2017-01-25</td>\n",
              "      <td>Now, the audience was the biggest ever. But th...</td>\n",
              "      <td>Official aerial photos show Obama's 2009 inaug...</td>\n",
              "      <td>https://www.nytimes.com/2017/01/21/us/politics...</td>\n",
              "    </tr>\n",
              "    <tr>\n",
              "      <th>4</th>\n",
              "      <td>2017-01-25</td>\n",
              "      <td>Take a look at the Pew reports (which show vot...</td>\n",
              "      <td>The report never mentioned voter fraud.</td>\n",
              "      <td>https://www.nytimes.com/2017/01/24/us/politics...</td>\n",
              "    </tr>\n",
              "  </tbody>\n",
              "</table>\n",
              "</div>"
            ],
            "text/plain": [
              "        DATA  ...                                                URL\n",
              "0 2017-01-21  ...  https://www.buzzfeed.com/andrewkaczynski/in-20...\n",
              "1 2017-01-21  ...  http://nation.time.com/2013/11/06/10-things-yo...\n",
              "2 2017-01-23  ...  https://www.nytimes.com/2017/01/23/us/politics...\n",
              "3 2017-01-25  ...  https://www.nytimes.com/2017/01/21/us/politics...\n",
              "4 2017-01-25  ...  https://www.nytimes.com/2017/01/24/us/politics...\n",
              "\n",
              "[5 rows x 4 columns]"
            ]
          },
          "metadata": {
            "tags": []
          },
          "execution_count": 48
        }
      ]
    },
    {
      "cell_type": "markdown",
      "metadata": {
        "id": "fHLKMOf0_BsK",
        "colab_type": "text"
      },
      "source": [
        "Prontinho, fizemos o que queriamos. Agora é só fazer a exportação desse df em formato CSV para futuras análises."
      ]
    },
    {
      "cell_type": "markdown",
      "metadata": {
        "id": "OxYHuoEm_NxH",
        "colab_type": "text"
      },
      "source": [
        "## Exportando o DataSet em formato de CSV"
      ]
    },
    {
      "cell_type": "code",
      "metadata": {
        "id": "ixkiK1ss-0YI",
        "colab_type": "code",
        "colab": {}
      },
      "source": [
        "#Exportando com o nome Mentiras de Trump\n",
        "df.to_csv('Mentiras_de_Trump.csv', index=False, encoding='utf-8')"
      ],
      "execution_count": null,
      "outputs": []
    },
    {
      "cell_type": "code",
      "metadata": {
        "id": "am2BPD7M_nBX",
        "colab_type": "code",
        "colab": {}
      },
      "source": [
        "df = pd.read_csv('Mentiras_de_Trump.csv', parse_dates=['DATA'], encoding='utf-8')"
      ],
      "execution_count": null,
      "outputs": []
    },
    {
      "cell_type": "code",
      "metadata": {
        "id": "ozzXwq9wBGpR",
        "colab_type": "code",
        "colab": {}
      },
      "source": [
        ""
      ],
      "execution_count": null,
      "outputs": []
    }
  ]
}